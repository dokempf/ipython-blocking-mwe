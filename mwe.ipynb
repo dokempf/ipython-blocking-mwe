{
 "cells": [
  {
   "cell_type": "code",
   "execution_count": null,
   "id": "1c739e3a-1e6d-4f74-9266-c896b1e02cb5",
   "metadata": {},
   "outputs": [],
   "source": [
    "import ipython_blocking\n",
    "import ipywidgets\n",
    "import IPython"
   ]
  },
  {
   "cell_type": "code",
   "execution_count": null,
   "id": "e5cce006-1307-4c82-b9dd-af2467970b8a",
   "metadata": {},
   "outputs": [],
   "source": [
    "button = ipywidgets.Button(description=\"Click to proceed\")"
   ]
  },
  {
   "cell_type": "code",
   "execution_count": null,
   "id": "55aa3e0d-643e-4945-8ddc-4ba565c535a0",
   "metadata": {},
   "outputs": [],
   "source": [
    "def await_button_click(button):\n",
    "    keep_running = True\n",
    "    def _handler(_):\n",
    "        nonlocal keep_running\n",
    "        keep_running = False\n",
    "    button.on_click(_handler)\n",
    "\n",
    "    IPython.display.display(button)\n",
    "    ctx = ipython_blocking.CaptureExecution(replay=True)\n",
    "    with ctx:\n",
    "        while keep_running:\n",
    "            ctx.step()\n",
    "    \n",
    "    return 42"
   ]
  },
  {
   "cell_type": "code",
   "execution_count": null,
   "id": "89f8c0b8-b647-4ac0-abf2-9420d536d88f",
   "metadata": {},
   "outputs": [],
   "source": [
    "x = await_button_click(button)"
   ]
  },
  {
   "cell_type": "code",
   "execution_count": null,
   "id": "42254cad",
   "metadata": {},
   "outputs": [],
   "source": [
    "print(x)"
   ]
  }
 ],
 "metadata": {
  "kernelspec": {
   "display_name": "Python 3 (ipykernel)",
   "language": "python",
   "name": "python3"
  },
  "language_info": {
   "codemirror_mode": {
    "name": "ipython",
    "version": 3
   },
   "file_extension": ".py",
   "mimetype": "text/x-python",
   "name": "python",
   "nbconvert_exporter": "python",
   "pygments_lexer": "ipython3",
   "version": "3.9.6"
  }
 },
 "nbformat": 4,
 "nbformat_minor": 5
}
